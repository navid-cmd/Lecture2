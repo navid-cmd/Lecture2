{
 "cells": [
  {
   "cell_type": "code",
   "execution_count": 1,
   "metadata": {},
   "outputs": [
    {
     "ename": "NameError",
     "evalue": "name 'columns' is not defined",
     "output_type": "error",
     "traceback": [
      "\u001b[0;31m---------------------------------------------------------------------------\u001b[0m",
      "\u001b[0;31mNameError\u001b[0m                                 Traceback (most recent call last)",
      "Cell \u001b[0;32mIn[1], line 5\u001b[0m\n\u001b[1;32m      3\u001b[0m collumns \u001b[38;5;241m=\u001b[39m \u001b[38;5;28minput\u001b[39m(\u001b[38;5;124m\"\u001b[39m\u001b[38;5;124mEnter the number of collumns: \u001b[39m\u001b[38;5;124m\"\u001b[39m)\n\u001b[1;32m      4\u001b[0m collumns \u001b[38;5;241m=\u001b[39m \u001b[38;5;28mint\u001b[39m(collumns)\n\u001b[0;32m----> 5\u001b[0m \u001b[38;5;28;01mfor\u001b[39;00m i \u001b[38;5;129;01min\u001b[39;00m \u001b[38;5;28mrange\u001b[39m(\u001b[38;5;241m1\u001b[39m, \u001b[43mcolumns\u001b[49m ):\n\u001b[1;32m      6\u001b[0m     \u001b[38;5;28;01mfor\u001b[39;00m j \u001b[38;5;129;01min\u001b[39;00m \u001b[38;5;28mrange\u001b[39m(\u001b[38;5;241m1\u001b[39m, rows):\n\u001b[1;32m      7\u001b[0m         \u001b[38;5;28mprint\u001b[39m(\u001b[38;5;124m\"\u001b[39m\u001b[38;5;124m*\u001b[39m\u001b[38;5;124m\"\u001b[39m, end\u001b[38;5;241m=\u001b[39m\u001b[38;5;124m\"\u001b[39m\u001b[38;5;124m\"\u001b[39m)\n",
      "\u001b[0;31mNameError\u001b[0m: name 'columns' is not defined"
     ]
    }
   ],
   "source": [
    "rows = input(\"Enter the number of rows: \")\n",
    "rows = int(rows)\n",
    "collumns = input(\"Enter the number of collumns: \")\n",
    "collumns = int(collumns)\n",
    "for i in range(1, columns ):\n",
    "    for j in range(1, rows):\n",
    "        print(\"*\", end=\"\")\n",
    "        j += 1\n",
    "    print()\n",
    "    i += 1\n",
    "    print(/n)\n",
    "    \n",
    "\n",
    "print(\"*\" * rows)"
   ]
  },
  {
   "cell_type": "code",
   "execution_count": 3,
   "metadata": {},
   "outputs": [
    {
     "name": "stdout",
     "output_type": "stream",
     "text": [
      "o o o o o \n",
      "o o o o o \n",
      "o o o o o \n",
      "o o o o o \n",
      "o o o o o \n"
     ]
    }
   ],
   "source": [
    "n = 5\n",
    "for i in range(n):\n",
    "    for j in range(n):\n",
    "        print ('o ', end=\"\")\n",
    "    print('')"
   ]
  },
  {
   "cell_type": "code",
   "execution_count": 6,
   "metadata": {},
   "outputs": [
    {
     "name": "stdout",
     "output_type": "stream",
     "text": [
      "\n",
      "o \n",
      "o o \n",
      "o o o \n",
      "o o o o \n",
      "o o o o o \n",
      "o o o o o o \n",
      "o o o o o o o \n",
      "o o o o o o o o \n",
      "o o o o o o o o o \n",
      "o o o o o o o o o o \n",
      "o o o o o o o o o o o \n",
      "o o o o o o o o o o o o \n",
      "o o o o o o o o o o o o o \n",
      "o o o o o o o o o o o o o o \n",
      "o o o o o o o o o o o o o o o \n",
      "o o o o o o o o o o o o o o o o \n",
      "o o o o o o o o o o o o o o o o o \n",
      "o o o o o o o o o o o o o o o o o o \n",
      "o o o o o o o o o o o o o o o o o o o \n",
      "o o o o o o o o o o o o o o o o o o o o \n",
      "o o o o o o o o o o o o o o o o o o o o o \n",
      "o o o o o o o o o o o o o o o o o o o o o o \n",
      "o o o o o o o o o o o o o o o o o o o o o o o \n",
      "o o o o o o o o o o o o o o o o o o o o o o o o \n",
      "o o o o o o o o o o o o o o o o o o o o o o o o o \n",
      "o o o o o o o o o o o o o o o o o o o o o o o o o o \n",
      "o o o o o o o o o o o o o o o o o o o o o o o o o o o \n",
      "o o o o o o o o o o o o o o o o o o o o o o o o o o o o \n",
      "o o o o o o o o o o o o o o o o o o o o o o o o o o o o o \n",
      "o o o o o o o o o o o o o o o o o o o o o o o o o o o o o o \n",
      "o o o o o o o o o o o o o o o o o o o o o o o o o o o o o o o \n",
      "o o o o o o o o o o o o o o o o o o o o o o o o o o o o o o o o \n",
      "o o o o o o o o o o o o o o o o o o o o o o o o o o o o o o o o o \n",
      "o o o o o o o o o o o o o o o o o o o o o o o o o o o o o o o o o o \n",
      "o o o o o o o o o o o o o o o o o o o o o o o o o o o o o o o o o o o \n",
      "o o o o o o o o o o o o o o o o o o o o o o o o o o o o o o o o o o o o \n",
      "o o o o o o o o o o o o o o o o o o o o o o o o o o o o o o o o o o o o o \n",
      "o o o o o o o o o o o o o o o o o o o o o o o o o o o o o o o o o o o o o o \n",
      "o o o o o o o o o o o o o o o o o o o o o o o o o o o o o o o o o o o o o o o \n",
      "o o o o o o o o o o o o o o o o o o o o o o o o o o o o o o o o o o o o o o o o \n",
      "o o o o o o o o o o o o o o o o o o o o o o o o o o o o o o o o o o o o o o o o o \n",
      "o o o o o o o o o o o o o o o o o o o o o o o o o o o o o o o o o o o o o o o o o o \n",
      "o o o o o o o o o o o o o o o o o o o o o o o o o o o o o o o o o o o o o o o o o o o \n",
      "o o o o o o o o o o o o o o o o o o o o o o o o o o o o o o o o o o o o o o o o o o o o \n",
      "o o o o o o o o o o o o o o o o o o o o o o o o o o o o o o o o o o o o o o o o o o o o o \n",
      "o o o o o o o o o o o o o o o o o o o o o o o o o o o o o o o o o o o o o o o o o o o o o o \n",
      "o o o o o o o o o o o o o o o o o o o o o o o o o o o o o o o o o o o o o o o o o o o o o o o \n",
      "o o o o o o o o o o o o o o o o o o o o o o o o o o o o o o o o o o o o o o o o o o o o o o o o \n",
      "o o o o o o o o o o o o o o o o o o o o o o o o o o o o o o o o o o o o o o o o o o o o o o o o o \n"
     ]
    }
   ],
   "source": [
    "n = 50\n",
    "for i in range(n):\n",
    "    for j in range(i):\n",
    "        print ('o ', end=\"\")\n",
    "    print('')\n",
    "i+=1 \n"
   ]
  },
  {
   "cell_type": "code",
   "execution_count": 8,
   "metadata": {},
   "outputs": [
    {
     "name": "stdout",
     "output_type": "stream",
     "text": [
      "The sum is: 10\n",
      "10\n"
     ]
    }
   ],
   "source": [
    "def add_numbers(a, b):\n",
    "    return a + b\n",
    "value1 = int(input(\"Enter the first number: \"))\n",
    "value2 = int(input(\"Enter the second number: \"))\n",
    "result = add_numbers(value1, value2)\n",
    "print(\"The sum is:\", result)\n",
    "print(result)"
   ]
  },
  {
   "cell_type": "code",
   "execution_count": 13,
   "metadata": {},
   "outputs": [
    {
     "name": "stdout",
     "output_type": "stream",
     "text": [
      "****\n",
      "\n",
      "****\n",
      "\n",
      "****\n",
      "\n",
      "****\n",
      "\n",
      "****\n",
      "\n"
     ]
    }
   ],
   "source": [
    "def os(rows, collumms):\n",
    "    for i in range(1, rows + 1):\n",
    "        for j in range(1, collumms+ 1):\n",
    "            print(\"o\", end=\"\")\n",
    "            j += 1\n",
    "        print()\n",
    "        i += 1\n",
    "        print(\"\")\n",
    "rows = input(\"Enter the number of rows: \")\n",
    "rows = int(rows)\n",
    "collumns = input(\"Enter the number of collumns: \")\n",
    "collumns = int(collumns)\n",
    "os(rows, collumns)"
   ]
  },
  {
   "cell_type": "code",
   "execution_count": 15,
   "metadata": {},
   "outputs": [
    {
     "name": "stdout",
     "output_type": "stream",
     "text": [
      "\n",
      "o \n",
      "o o \n",
      "o o o \n",
      "o o o o \n"
     ]
    }
   ],
   "source": [
    "def print_pattern(n):\n",
    "    for i in range(n + 1):\n",
    "        for j in range(i):\n",
    "            print ('o ', end=\"\")\n",
    "        print('')\n",
    "n = int(input(\"Enter the number of rows: \"))\n",
    "print_pattern(n)"
   ]
  }
 ],
 "metadata": {
  "kernelspec": {
   "display_name": "Python 3",
   "language": "python",
   "name": "python3"
  },
  "language_info": {
   "codemirror_mode": {
    "name": "ipython",
    "version": 3
   },
   "file_extension": ".py",
   "mimetype": "text/x-python",
   "name": "python",
   "nbconvert_exporter": "python",
   "pygments_lexer": "ipython3",
   "version": "3.10.12"
  }
 },
 "nbformat": 4,
 "nbformat_minor": 2
}
